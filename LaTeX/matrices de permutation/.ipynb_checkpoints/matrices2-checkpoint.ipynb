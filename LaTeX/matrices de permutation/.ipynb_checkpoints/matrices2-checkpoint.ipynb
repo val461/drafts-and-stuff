{
 "cells": [
  {
   "cell_type": "code",
   "execution_count": 6,
   "metadata": {},
   "outputs": [],
   "source": [
    "tA=\"\"\"(1  0 -1 0  0  0)\n",
    "(0  1  0 0  0 -1)\n",
    "(0  0  0 1 -1  0)\n",
    "(0  0  0 1  0 -1)\n",
    "(1 -1  0 0  0  0)\n",
    "(0  0  1 0 -1  0)\"\"\"\n",
    "tB=\"\"\"(1  0  0  0  0)\n",
    "(0  1  0  0  0)\n",
    "(0  0  1  0  0)\n",
    "(0  0  1  1  0)\n",
    "(1 -1  0  0  1)\n",
    "(0  0  0 -1  1)\"\"\"\n",
    "tL12='''(0 1 0 0 0 0)\n",
    "(1 0 0 0 0 0)\n",
    "(0 0 0 0 1 0)\n",
    "(0 0 0 0 0 1)\n",
    "(0 0 1 0 0 0)\n",
    "(0 0 0 1 0 0)'''\n",
    "tL23='''(0 0 1 0 0 0)\n",
    "(0 0 0 0 0 1)\n",
    "(1 0 0 0 0 0)\n",
    "(0 0 0 0 1 0)\n",
    "(0 0 0 1 0 0)\n",
    "(0 1 0 0 0 0)'''\n",
    "tM='''( 0 -2  0 1  2 -1  0  0  0  3  0 -3)\n",
    "( 1 -1 -2 0  0  2  3 -3  0  0  0  0)\n",
    "(-2  0  1 2 -1  0  0  0  3  0 -3  0)\n",
    "( 0  0  0 1  0  1  0 -2  0 -1 -2 -1)\n",
    "( 1  1  0 0  0  0 -1 -1 -2  0  0 -2)\n",
    "( 0  0  1 0  1  0 -2  0 -1 -2 -1  0)'''\n",
    "tM2='''( 0  0 1  0  0  0)\n",
    "( 1  0 0  0  0  0)\n",
    "( 0  0 0  0  1  0)\n",
    "( 0  0 0  1  0  0)\n",
    "( 0  0 0  0  0  1)\n",
    "( 0  1 0  0  0  0)'''\n",
    "tM3='''( 0  0  0 1  0  0  0  0  0  0  0  0)\n",
    "( 1  0  0 0  0  0  0  0  0  0  0  0)\n",
    "(-2  1  0 2 -5  3  6  0  3 -3 -3  0)\n",
    "( 0  1  0 1 -2  1  0 -1  0 -2 -2 -1)\n",
    "( 1  1  2 0  0 -1 -4 -1 -2  0  0 -1)\n",
    "( 0  0  1 0  1  0 -2 -1 -1 -1 -1 -1)'''"
   ]
  },
  {
   "cell_type": "code",
   "execution_count": 7,
   "metadata": {},
   "outputs": [],
   "source": [
    "tg2='(1 -1 -1 -1  1  1)'"
   ]
  },
  {
   "cell_type": "code",
   "execution_count": 8,
   "metadata": {},
   "outputs": [],
   "source": [
    "def parse_matrix(text, field=QQ):\n",
    "    return matrix([map(field,s.strip('()').split()) for s in text.strip().split('\\n')])"
   ]
  },
  {
   "cell_type": "code",
   "execution_count": 9,
   "metadata": {},
   "outputs": [],
   "source": [
    "def parse_vector(text, field=QQ, to_strip='()'):\n",
    "    return vector(map(field,text.strip().strip(to_strip).split()))"
   ]
  },
  {
   "cell_type": "code",
   "execution_count": 10,
   "metadata": {},
   "outputs": [],
   "source": [
    "def matrix_to_latex(M, debut = r'\\begin{pmatrix}' + '\\n ', fin = '\\n' + r'\\end{pmatrix}',\n",
    "                    separateurLigne = r' \\\\' + '\\n ', separateurColonne = ' & '):\n",
    "    print(debut + \\\n",
    "        separateurLigne.join([separateurColonne.join(map(str, row)) for row in M.rows()]) + \\\n",
    "        fin, end='')"
   ]
  },
  {
   "cell_type": "code",
   "execution_count": 11,
   "metadata": {},
   "outputs": [],
   "source": [
    "def ascii_transposed_vector_to_latex(v, field=QQ, to_strip='()'):\n",
    "#     matrix_to_latex(matrix(parse_vector(v)).T, separateurLigne = r' \\\\')\n",
    "    matrix_to_latex(matrix(parse_vector(v, field=field, to_strip=to_strip)).T, separateurLigne = r' \\\\',\n",
    "                    fin = '\\n' + r'\\end{pmatrix}')"
   ]
  },
  {
   "cell_type": "code",
   "execution_count": 12,
   "metadata": {},
   "outputs": [],
   "source": [
    "def ascii_vector_to_latex(v, to_strip='()'):\n",
    "#     matrix_to_latex(matrix(parse_vector(v)).T, separateurLigne = r' \\\\')\n",
    "    matrix_to_latex(matrix(parse_vector(v, to_strip=to_strip)), separateurLigne = r' \\\\')"
   ]
  },
  {
   "cell_type": "code",
   "execution_count": 13,
   "metadata": {},
   "outputs": [],
   "source": [
    "def ascii_transposed_vector_to_latex2(v, to_strip='()', debut = r'\\begin{pmatrix}' + '\\n ',\n",
    "                                      fin = '\\n' + r'\\end{pmatrix}', separateurLigne = r' \\\\'):\n",
    "    print(debut + \\\n",
    "        separateurLigne.join(v.strip().strip(to_strip).split()) + \\\n",
    "        fin, end='')"
   ]
  },
  {
   "cell_type": "code",
   "execution_count": 19,
   "metadata": {},
   "outputs": [
    {
     "name": "stdout",
     "output_type": "stream",
     "text": [
      "\\begin{pmatrix}\n",
      " 1 & 2 \\\\\n",
      " 3 & 4\n",
      "\\end{pmatrix}"
     ]
    }
   ],
   "source": [
    "M=matrix([[1,2],[3,4]])\n",
    "matrix_to_latex(M)"
   ]
  },
  {
   "cell_type": "code",
   "execution_count": null,
   "metadata": {},
   "outputs": [],
   "source": [
    "M=matrix(eval('[[1,2],[3,4]]'))\n",
    "matrix_to_latex(M)"
   ]
  },
  {
   "cell_type": "code",
   "execution_count": 8,
   "metadata": {},
   "outputs": [
    {
     "data": {
      "text/plain": [
       "(\n",
       "                [ 1  0 -1  0  0  0]\n",
       "                [ 0  1  0  0  0 -1]\n",
       "                [ 0  0  0  1 -1  0]\n",
       "                [ 0  0  0  1  0 -1]\n",
       "                [ 1 -1  0  0  0  0]\n",
       "Rational Field, [ 0  0  1  0 -1  0]\n",
       ")"
      ]
     },
     "execution_count": 8,
     "metadata": {},
     "output_type": "execute_result"
    }
   ],
   "source": [
    "A=parse_matrix(tA)\n",
    "A.base_ring(), A"
   ]
  },
  {
   "cell_type": "code",
   "execution_count": 9,
   "metadata": {},
   "outputs": [
    {
     "data": {
      "text/plain": [
       "(\n",
       "[0 1 0 0 0 0]  [0 0 1 0 0 0]\n",
       "[1 0 0 0 0 0]  [0 0 0 0 0 1]\n",
       "[0 0 0 0 1 0]  [1 0 0 0 0 0]\n",
       "[0 0 0 0 0 1]  [0 0 0 0 1 0]\n",
       "[0 0 1 0 0 0]  [0 0 0 1 0 0]\n",
       "[0 0 0 1 0 0], [0 1 0 0 0 0]\n",
       ")"
      ]
     },
     "execution_count": 9,
     "metadata": {},
     "output_type": "execute_result"
    }
   ],
   "source": [
    "L12=parse_matrix(tL12)\n",
    "L23=parse_matrix(tL23)\n",
    "L12,L23"
   ]
  },
  {
   "cell_type": "code",
   "execution_count": 10,
   "metadata": {},
   "outputs": [
    {
     "data": {
      "text/plain": [
       "(1, -1, -1, -1, 1, 1)"
      ]
     },
     "execution_count": 10,
     "metadata": {},
     "output_type": "execute_result"
    }
   ],
   "source": [
    "g2=parse_vector(tg2)\n",
    "g2"
   ]
  },
  {
   "cell_type": "code",
   "execution_count": 11,
   "metadata": {},
   "outputs": [],
   "source": [
    "v=vector([1,-1,1,-1,-1,1])"
   ]
  },
  {
   "cell_type": "code",
   "execution_count": 12,
   "metadata": {},
   "outputs": [
    {
     "data": {
      "text/plain": [
       "(0, 0, 0, 0, -2, 2)"
      ]
     },
     "execution_count": 12,
     "metadata": {},
     "output_type": "execute_result"
    }
   ],
   "source": [
    "v*A"
   ]
  },
  {
   "cell_type": "code",
   "execution_count": 13,
   "metadata": {},
   "outputs": [
    {
     "data": {
      "text/plain": [
       "(0, 0, 0, 0, 0, 0)"
      ]
     },
     "execution_count": 13,
     "metadata": {},
     "output_type": "execute_result"
    }
   ],
   "source": [
    "v=vector([1,-1,-1,1,-1,1])\n",
    "v*A"
   ]
  },
  {
   "cell_type": "code",
   "execution_count": 14,
   "metadata": {},
   "outputs": [
    {
     "data": {
      "text/plain": [
       "(0, 0, 0, 0, 0, 0)"
      ]
     },
     "execution_count": 14,
     "metadata": {},
     "output_type": "execute_result"
    }
   ],
   "source": [
    "(L12+1)*g2"
   ]
  },
  {
   "cell_type": "code",
   "execution_count": 15,
   "metadata": {},
   "outputs": [
    {
     "data": {
      "text/plain": [
       "(0, 0, 0, 0, 0, 0)"
      ]
     },
     "execution_count": 15,
     "metadata": {},
     "output_type": "execute_result"
    }
   ],
   "source": [
    "(L23+1)*g2"
   ]
  },
  {
   "cell_type": "code",
   "execution_count": 16,
   "metadata": {},
   "outputs": [
    {
     "data": {
      "text/plain": [
       "(\n",
       "[ 0  2  0  1 -2 -1  0  0  0  3  0 -3]\n",
       "[ 1 -1 -2  0  0  2  3 -3  0  0  0  0]\n",
       "[-2  0  1  2 -1  0  0  0  3  0 -3  0]\n",
       "[ 0  0  0  1  0  1  0 -2  0 -1 -2 -1]\n",
       "[ 1  1  0  0  0  0 -1 -1 -2  0  0 -2]\n",
       "[ 0  0  1  0  1  0 -2  0 -1 -2 -1  0],\n",
       "\n",
       "Vector space of degree 6 and dimension 2 over Rational Field\n",
       "Basis matrix:                                               \n",
       "[ 1  0 -1  1 -2  1]                                         \n",
       "[ 0  1  1 -2  1  1]                                         \n",
       ")"
      ]
     },
     "execution_count": 16,
     "metadata": {},
     "output_type": "execute_result"
    }
   ],
   "source": [
    "M5=parse_matrix('''\n",
    "( 0  2  0 1 -2 -1  0  0  0  3  0 -3)\n",
    "( 1 -1 -2 0  0  2  3 -3  0  0  0  0)\n",
    "(-2  0  1 2 -1  0  0  0  3  0 -3  0)\n",
    "( 0  0  0 1  0  1  0 -2  0 -1 -2 -1)\n",
    "( 1  1  0 0  0  0 -1 -1 -2  0  0 -2)\n",
    "( 0  0  1 0  1  0 -2  0 -1 -2 -1  0)\n",
    "''')\n",
    "M5,M5.left_kernel()"
   ]
  },
  {
   "cell_type": "code",
   "execution_count": 17,
   "metadata": {},
   "outputs": [
    {
     "data": {
      "text/plain": [
       "(1, 1, 1, 1, 1, 1)"
      ]
     },
     "execution_count": 17,
     "metadata": {},
     "output_type": "execute_result"
    }
   ],
   "source": [
    "g1=parse_vector('(1 1 1 1 1 1)')\n",
    "g1"
   ]
  },
  {
   "cell_type": "code",
   "execution_count": 18,
   "metadata": {},
   "outputs": [
    {
     "data": {
      "text/plain": [
       "(1, -1, -1, -1, 1, 1)"
      ]
     },
     "execution_count": 18,
     "metadata": {},
     "output_type": "execute_result"
    }
   ],
   "source": [
    "g2=parse_vector('(1 -1 -1 -1  1  1)')\n",
    "g2"
   ]
  },
  {
   "cell_type": "code",
   "execution_count": 19,
   "metadata": {},
   "outputs": [
    {
     "data": {
      "text/plain": [
       "(1, -1, 1, 0, -1, 0)"
      ]
     },
     "execution_count": 19,
     "metadata": {},
     "output_type": "execute_result"
    }
   ],
   "source": [
    "g3=parse_vector('(1 -1  1  0 -1  0)')\n",
    "g3"
   ]
  },
  {
   "cell_type": "code",
   "execution_count": 20,
   "metadata": {},
   "outputs": [
    {
     "data": {
      "text/plain": [
       "(1, 1, 1, -2, 1, -2)"
      ]
     },
     "execution_count": 20,
     "metadata": {},
     "output_type": "execute_result"
    }
   ],
   "source": [
    "g4=parse_vector('(1  1  1 -2  1 -2)')\n",
    "g4"
   ]
  },
  {
   "cell_type": "code",
   "execution_count": 21,
   "metadata": {},
   "outputs": [
    {
     "data": {
      "text/plain": [
       "(0, 0, 0, 0, 0, 0)"
      ]
     },
     "execution_count": 21,
     "metadata": {},
     "output_type": "execute_result"
    }
   ],
   "source": [
    "(L12+1)*g3"
   ]
  },
  {
   "cell_type": "code",
   "execution_count": 22,
   "metadata": {},
   "outputs": [
    {
     "data": {
      "text/plain": [
       "(0, 0, 0, 0, 0, 0)"
      ]
     },
     "execution_count": 22,
     "metadata": {},
     "output_type": "execute_result"
    }
   ],
   "source": [
    "(L12-1)*g4"
   ]
  },
  {
   "cell_type": "code",
   "execution_count": 23,
   "metadata": {},
   "outputs": [
    {
     "data": {
      "text/plain": [
       "(1, 0, 1, -1, 0, -1)"
      ]
     },
     "execution_count": 23,
     "metadata": {},
     "output_type": "execute_result"
    }
   ],
   "source": [
    "L23*g3"
   ]
  },
  {
   "cell_type": "code",
   "execution_count": 24,
   "metadata": {},
   "outputs": [
    {
     "data": {
      "text/plain": [
       "(1, 0, 1, -1, 0, -1)"
      ]
     },
     "execution_count": 24,
     "metadata": {},
     "output_type": "execute_result"
    }
   ],
   "source": [
    "(g3+g4)/2"
   ]
  },
  {
   "cell_type": "code",
   "execution_count": 25,
   "metadata": {},
   "outputs": [
    {
     "data": {
      "text/plain": [
       "(1, -2, 1, 1, -2, 1)"
      ]
     },
     "execution_count": 25,
     "metadata": {},
     "output_type": "execute_result"
    }
   ],
   "source": [
    "L23*g4"
   ]
  },
  {
   "cell_type": "code",
   "execution_count": 26,
   "metadata": {},
   "outputs": [
    {
     "data": {
      "text/plain": [
       "(1, -2, 1, 1, -2, 1)"
      ]
     },
     "execution_count": 26,
     "metadata": {},
     "output_type": "execute_result"
    }
   ],
   "source": [
    "(3*g3-g4)/2"
   ]
  },
  {
   "cell_type": "code",
   "execution_count": 27,
   "metadata": {},
   "outputs": [],
   "source": [
    "Q6 = VectorSpace(QQ,6)"
   ]
  },
  {
   "cell_type": "code",
   "execution_count": 28,
   "metadata": {},
   "outputs": [],
   "source": [
    "B=[g1,g2,g3,g4]"
   ]
  },
  {
   "cell_type": "code",
   "execution_count": 29,
   "metadata": {},
   "outputs": [],
   "source": [
    "for v in Q6.basis():\n",
    "    if v not in span(B):\n",
    "        B.append(v)"
   ]
  },
  {
   "cell_type": "code",
   "execution_count": 30,
   "metadata": {},
   "outputs": [
    {
     "data": {
      "text/plain": [
       "[(1, 1, 1, 1, 1, 1),\n",
       " (1, -1, -1, -1, 1, 1),\n",
       " (1, -1, 1, 0, -1, 0),\n",
       " (1, 1, 1, -2, 1, -2),\n",
       " (1, 0, 0, 0, 0, 0),\n",
       " (0, 1, 0, 0, 0, 0)]"
      ]
     },
     "execution_count": 30,
     "metadata": {},
     "output_type": "execute_result"
    }
   ],
   "source": [
    "B"
   ]
  },
  {
   "cell_type": "code",
   "execution_count": 31,
   "metadata": {},
   "outputs": [
    {
     "data": {
      "text/plain": [
       "[ 1  1  1  1  1  0]\n",
       "[ 1 -1 -1  1  0  1]\n",
       "[ 1 -1  1  1  0  0]\n",
       "[ 1 -1  0 -2  0  0]\n",
       "[ 1  1 -1  1  0  0]\n",
       "[ 1  1  0 -2  0  0]"
      ]
     },
     "execution_count": 31,
     "metadata": {},
     "output_type": "execute_result"
    }
   ],
   "source": [
    "P=matrix(B).T\n",
    "P"
   ]
  },
  {
   "cell_type": "code",
   "execution_count": 32,
   "metadata": {},
   "outputs": [
    {
     "data": {
      "text/plain": [
       "[ 1  0  0  0  0  0]\n",
       "[ 0 -1  0  0  0  0]\n",
       "[ 0  0 -1  0  0  0]\n",
       "[ 0  0  0  1  0  0]\n",
       "[ 0  0  0  0  0  1]\n",
       "[ 0  0  0  0  1  0]"
      ]
     },
     "execution_count": 32,
     "metadata": {},
     "output_type": "execute_result"
    }
   ],
   "source": [
    "P^-1*L12*P"
   ]
  },
  {
   "cell_type": "code",
   "execution_count": 33,
   "metadata": {},
   "outputs": [
    {
     "data": {
      "text/plain": [
       "[   1    0    0    0  1/3  1/6]\n",
       "[   0   -1    0    0    0  1/2]\n",
       "[   0    0  1/2  3/2  1/2  1/2]\n",
       "[   0    0  1/2 -1/2  1/6 -1/6]\n",
       "[   0    0    0    0   -1   -1]\n",
       "[   0    0    0    0    0    1]"
      ]
     },
     "execution_count": 33,
     "metadata": {},
     "output_type": "execute_result"
    }
   ],
   "source": [
    "P^-1*L23*P"
   ]
  },
  {
   "cell_type": "code",
   "execution_count": 34,
   "metadata": {},
   "outputs": [
    {
     "data": {
      "text/plain": [
       "[0 1 0 0 0 0]\n",
       "[1 0 0 0 0 0]\n",
       "[0 0 0 0 1 0]\n",
       "[0 0 0 0 0 1]\n",
       "[0 0 1 0 0 0]\n",
       "[0 0 0 1 0 0]"
      ]
     },
     "execution_count": 34,
     "metadata": {},
     "output_type": "execute_result"
    }
   ],
   "source": [
    "M=L12\n",
    "M"
   ]
  },
  {
   "cell_type": "code",
   "execution_count": null,
   "metadata": {},
   "outputs": [],
   "source": []
  },
  {
   "cell_type": "code",
   "execution_count": 35,
   "metadata": {},
   "outputs": [
    {
     "name": "stdout",
     "output_type": "stream",
     "text": [
      "\\begin{pmatrix}\n",
      " 0 & 1 & 0 & 0 & 0 & 0 \\\\\n",
      " 1 & 0 & 0 & 0 & 0 & 0 \\\\\n",
      " 0 & 0 & 0 & 0 & 1 & 0 \\\\\n",
      " 0 & 0 & 0 & 0 & 0 & 1 \\\\\n",
      " 0 & 0 & 1 & 0 & 0 & 0 \\\\\n",
      " 0 & 0 & 0 & 1 & 0 & 0\n",
      "\\end{pmatrix}"
     ]
    }
   ],
   "source": [
    "matrix_to_latex(L12)"
   ]
  },
  {
   "cell_type": "code",
   "execution_count": 36,
   "metadata": {},
   "outputs": [],
   "source": [
    "L123=parse_matrix('''0 0 0 0 0 1\n",
    "0 0 1 0 0 0\n",
    "0 0 0 1 0 0\n",
    "0 1 0 0 0 0\n",
    "1 0 0 0 0 0\n",
    "0 0 0 0 1 0\n",
    "''')"
   ]
  },
  {
   "cell_type": "code",
   "execution_count": 37,
   "metadata": {},
   "outputs": [
    {
     "data": {
      "text/plain": [
       "[0 0 0 0 0 1]\n",
       "[0 0 1 0 0 0]\n",
       "[0 0 0 1 0 0]\n",
       "[0 1 0 0 0 0]\n",
       "[1 0 0 0 0 0]\n",
       "[0 0 0 0 1 0]"
      ]
     },
     "execution_count": 37,
     "metadata": {},
     "output_type": "execute_result"
    }
   ],
   "source": [
    "L123"
   ]
  },
  {
   "cell_type": "code",
   "execution_count": 38,
   "metadata": {},
   "outputs": [
    {
     "name": "stdout",
     "output_type": "stream",
     "text": [
      "\\begin{pmatrix}\n",
      " 0 & 0 & 0 & 0 & 0 & 1 \\\\\n",
      " 0 & 0 & 1 & 0 & 0 & 0 \\\\\n",
      " 0 & 0 & 0 & 1 & 0 & 0 \\\\\n",
      " 0 & 1 & 0 & 0 & 0 & 0 \\\\\n",
      " 1 & 0 & 0 & 0 & 0 & 0 \\\\\n",
      " 0 & 0 & 0 & 0 & 1 & 0\n",
      "\\end{pmatrix}"
     ]
    }
   ],
   "source": [
    "matrix_to_latex(L123)"
   ]
  },
  {
   "cell_type": "code",
   "execution_count": 39,
   "metadata": {},
   "outputs": [
    {
     "data": {
      "text/plain": [
       "[0 0 1 0 0 0]\n",
       "[0 0 0 0 0 1]\n",
       "[1 0 0 0 0 0]\n",
       "[0 0 0 0 1 0]\n",
       "[0 0 0 1 0 0]\n",
       "[0 1 0 0 0 0]"
      ]
     },
     "execution_count": 39,
     "metadata": {},
     "output_type": "execute_result"
    }
   ],
   "source": [
    "L23"
   ]
  },
  {
   "cell_type": "code",
   "execution_count": 40,
   "metadata": {},
   "outputs": [
    {
     "name": "stdout",
     "output_type": "stream",
     "text": [
      "\\begin{pmatrix}\n",
      " 0 & 0 & 1 & 0 & 0 & 0 \\\\\n",
      " 0 & 0 & 0 & 0 & 0 & 1 \\\\\n",
      " 1 & 0 & 0 & 0 & 0 & 0 \\\\\n",
      " 0 & 0 & 0 & 0 & 1 & 0 \\\\\n",
      " 0 & 0 & 0 & 1 & 0 & 0 \\\\\n",
      " 0 & 1 & 0 & 0 & 0 & 0\n",
      "\\end{pmatrix}"
     ]
    }
   ],
   "source": [
    "matrix_to_latex(L23)"
   ]
  },
  {
   "cell_type": "code",
   "execution_count": 41,
   "metadata": {},
   "outputs": [
    {
     "name": "stdout",
     "output_type": "stream",
     "text": [
      "\\begin{pmatrix}\n",
      " 0 \\\\0 \\\\0 \\\\1 \\\\0 \\\\1\n",
      "\\end{pmatrix}"
     ]
    }
   ],
   "source": [
    "ascii_transposed_vector_to_latex('0 0 0 1 0 1')"
   ]
  },
  {
   "cell_type": "code",
   "execution_count": 42,
   "metadata": {},
   "outputs": [],
   "source": [
    "s='''        f4=(0 0 0 1 0 1)\n",
    "        f5=(1 1 0 0 0 0)\n",
    "        f6=(0 0 1 0 1 0)\n",
    "        f1=(0  0 0 1  0 -1)\n",
    "        f2=(1 -1 0 0  0  0)\n",
    "        f3=(0  0 1 0 -1  0)\n",
    "        e1=(1 0 -1 0  0  0)\n",
    "        e2=(0 1  0 0  0 -1)\n",
    "        e3=(0 0  0 1 -1  0)\n",
    "        e4=(1 0 1 0 0 0)\n",
    "        e5=(0 1 0 0 0 1)\n",
    "        e6=(0 0 0 1 1 0)'''"
   ]
  },
  {
   "cell_type": "code",
   "execution_count": 43,
   "metadata": {},
   "outputs": [
    {
     "name": "stdout",
     "output_type": "stream",
     "text": [
      "\\begin{pmatrix}\n",
      " 0 \\\\0 \\\\0 \\\\1 \\\\0 \\\\1\n",
      "\\end{pmatrix}\\begin{pmatrix}\n",
      " 1 \\\\1 \\\\0 \\\\0 \\\\0 \\\\0\n",
      "\\end{pmatrix}\\begin{pmatrix}\n",
      " 0 \\\\0 \\\\1 \\\\0 \\\\1 \\\\0\n",
      "\\end{pmatrix}\\begin{pmatrix}\n",
      " 0 \\\\0 \\\\0 \\\\1 \\\\0 \\\\-1\n",
      "\\end{pmatrix}\\begin{pmatrix}\n",
      " 1 \\\\-1 \\\\0 \\\\0 \\\\0 \\\\0\n",
      "\\end{pmatrix}\\begin{pmatrix}\n",
      " 0 \\\\0 \\\\1 \\\\0 \\\\-1 \\\\0\n",
      "\\end{pmatrix}\\begin{pmatrix}\n",
      " 1 \\\\0 \\\\-1 \\\\0 \\\\0 \\\\0\n",
      "\\end{pmatrix}\\begin{pmatrix}\n",
      " 0 \\\\1 \\\\0 \\\\0 \\\\0 \\\\-1\n",
      "\\end{pmatrix}\\begin{pmatrix}\n",
      " 0 \\\\0 \\\\0 \\\\1 \\\\-1 \\\\0\n",
      "\\end{pmatrix}\\begin{pmatrix}\n",
      " 1 \\\\0 \\\\1 \\\\0 \\\\0 \\\\0\n",
      "\\end{pmatrix}\\begin{pmatrix}\n",
      " 0 \\\\1 \\\\0 \\\\0 \\\\0 \\\\1\n",
      "\\end{pmatrix}\\begin{pmatrix}\n",
      " 0 \\\\0 \\\\0 \\\\1 \\\\1 \\\\0\n",
      "\\end{pmatrix}"
     ]
    }
   ],
   "source": [
    "for l in s.split('\\n'):\n",
    "    ascii_transposed_vector_to_latex(l.strip().lstrip('fe123456='))"
   ]
  },
  {
   "cell_type": "code",
   "execution_count": 54,
   "metadata": {},
   "outputs": [
    {
     "name": "stdout",
     "output_type": "stream",
     "text": [
      "\\begin{pmatrix}\n",
      " 0 & 0 & 0 & 1 & 0 & 0 \\\\\n",
      " 0 & 0 & 1 & 0 & 0 & 0 \\\\\n",
      " 1 & 0 & 0 & 0 & 0 & 0 \\\\\n",
      " 0 & 1 & 0 & 0 & 0 & 0 \\\\\n",
      " 0 & 0 & 0 & 0 & 1 & 0 \\\\\n",
      " 0 & 0 & 0 & 0 & 0 & 1\n",
      "\\end{pmatrix}"
     ]
    }
   ],
   "source": [
    "M1324=parse_matrix('''0 0 0 1 0 0\n",
    "0 0 1 0 0 0\n",
    "1 0 0 0 0 0\n",
    "0 1 0 0 0 0\n",
    "0 0 0 0 1 0\n",
    "0 0 0 0 0 1\n",
    "''')\n",
    "matrix_to_latex(M1324)"
   ]
  },
  {
   "cell_type": "code",
   "execution_count": 51,
   "metadata": {},
   "outputs": [
    {
     "name": "stdout",
     "output_type": "stream",
     "text": [
      "\\begin{pmatrix}\n",
      " 1 \\\\1 \\\\-1 \\\\-1 \\\\0 \\\\0\n",
      "\\end{pmatrix}\\begin{pmatrix}\n",
      " 1 \\\\1 \\\\1 \\\\1 \\\\0 \\\\0\n",
      "\\end{pmatrix}\\begin{pmatrix}\n",
      " 0 \\\\0 \\\\0 \\\\0 \\\\1 \\\\0\n",
      "\\end{pmatrix}\\begin{pmatrix}\n",
      " 0 \\\\0 \\\\0 \\\\0 \\\\0 \\\\1\n",
      "\\end{pmatrix}"
     ]
    }
   ],
   "source": [
    "for l in s2.split('\\n\\n'):\n",
    "    ascii_transposed_vector_to_latex(l)"
   ]
  },
  {
   "cell_type": "code",
   "execution_count": 63,
   "metadata": {},
   "outputs": [
    {
     "data": {
      "text/plain": [
       "[(-1,\n",
       "  [\n",
       "  (1, 1, -1, -1, 0, 0)\n",
       "  ],\n",
       "  1),\n",
       " (1,\n",
       "  [\n",
       "  (1, 1, 1, 1, 0, 0),\n",
       "  (0, 0, 0, 0, 1, 0),\n",
       "  (0, 0, 0, 0, 0, 1)\n",
       "  ],\n",
       "  3),\n",
       " (-1*I, [(1, -1, 1*I, -1*I, 0, 0)], 1),\n",
       " (1*I, [(1, -1, -1*I, 1*I, 0, 0)], 1)]"
      ]
     },
     "execution_count": 63,
     "metadata": {},
     "output_type": "execute_result"
    }
   ],
   "source": [
    "M1324.eigenvectors_right()"
   ]
  },
  {
   "cell_type": "code",
   "execution_count": 92,
   "metadata": {},
   "outputs": [],
   "source": [
    "s3='''1 0 0 0 j^2 j\n",
    "0 1 j j^2 0 0\n",
    "1 0 0 0 j j^2\n",
    "0 1 j^2 j 0 0\n",
    "1 -1 -i i 0 0\n",
    "1 -1 i -i 0 0'''"
   ]
  },
  {
   "cell_type": "code",
   "execution_count": 97,
   "metadata": {},
   "outputs": [
    {
     "name": "stdout",
     "output_type": "stream",
     "text": [
      "\\begin{pmatrix}\n",
      " 1 \\\\0 \\\\0 \\\\0 \\\\j^2 \\\\j\n",
      "\\end{pmatrix}\\begin{pmatrix}\n",
      " 0 \\\\1 \\\\j \\\\j^2 \\\\0 \\\\0\n",
      "\\end{pmatrix}\\begin{pmatrix}\n",
      " 1 \\\\0 \\\\0 \\\\0 \\\\j \\\\j^2\n",
      "\\end{pmatrix}\\begin{pmatrix}\n",
      " 0 \\\\1 \\\\j^2 \\\\j \\\\0 \\\\0\n",
      "\\end{pmatrix}\\begin{pmatrix}\n",
      " 1 \\\\-1 \\\\-i \\\\i \\\\0 \\\\0\n",
      "\\end{pmatrix}\\begin{pmatrix}\n",
      " 1 \\\\-1 \\\\i \\\\-i \\\\0 \\\\0\n",
      "\\end{pmatrix}"
     ]
    }
   ],
   "source": [
    "for l in s3.split('\\n'):\n",
    "    ascii_transposed_vector_to_latex2(l)"
   ]
  },
  {
   "cell_type": "code",
   "execution_count": 73,
   "metadata": {},
   "outputs": [],
   "source": [
    "j=e^(i*2*pi/3)"
   ]
  },
  {
   "cell_type": "code",
   "execution_count": 77,
   "metadata": {},
   "outputs": [
    {
     "data": {
      "text/plain": [
       "1"
      ]
     },
     "execution_count": 77,
     "metadata": {},
     "output_type": "execute_result"
    }
   ],
   "source": [
    "expand(j^3)"
   ]
  },
  {
   "cell_type": "code",
   "execution_count": 93,
   "metadata": {},
   "outputs": [
    {
     "data": {
      "text/plain": [
       "['1 0 0 0 j^2 j',\n",
       " '0 1 j j^2 0 0',\n",
       " '1 0 0 0 j j^2',\n",
       " '0 1 j^2 j 0 0',\n",
       " '1 -1 -i i 0 0',\n",
       " '1 -1 i -i 0 0']"
      ]
     },
     "execution_count": 93,
     "metadata": {},
     "output_type": "execute_result"
    }
   ],
   "source": [
    "s3.split('\\n')"
   ]
  },
  {
   "cell_type": "code",
   "execution_count": 99,
   "metadata": {},
   "outputs": [
    {
     "data": {
      "text/plain": [
       "[(1,\n",
       "  [\n",
       "  (1, 0, 0, 0, 1, 1),\n",
       "  (0, 1, 1, 1, 0, 0)\n",
       "  ],\n",
       "  2),\n",
       " (-0.50000000000000000? - 0.866025403784439?*I,\n",
       "  [(1, 0, 0, 0, -0.50000000000000000? + 0.866025403784439?*I, -0.50000000000000000? - 0.866025403784439?*I),\n",
       "   (0, 1, -0.50000000000000000? - 0.866025403784439?*I, -0.50000000000000000? + 0.866025403784439?*I, 0, 0)],\n",
       "  2),\n",
       " (-0.50000000000000000? + 0.866025403784439?*I,\n",
       "  [(1, 0, 0, 0, -0.50000000000000000? - 0.866025403784439?*I, -0.50000000000000000? + 0.866025403784439?*I),\n",
       "   (0, 1, -0.50000000000000000? + 0.866025403784439?*I, -0.50000000000000000? - 0.866025403784439?*I, 0, 0)],\n",
       "  2)]"
      ]
     },
     "execution_count": 99,
     "metadata": {},
     "output_type": "execute_result"
    }
   ],
   "source": [
    "L123.eigenvectors_right()"
   ]
  },
  {
   "cell_type": "code",
   "execution_count": 101,
   "metadata": {},
   "outputs": [
    {
     "data": {
      "text/plain": [
       "-0.500000000000000 + 0.866025403784439*I"
      ]
     },
     "execution_count": 101,
     "metadata": {},
     "output_type": "execute_result"
    }
   ],
   "source": [
    "n(j)"
   ]
  },
  {
   "cell_type": "code",
   "execution_count": 102,
   "metadata": {},
   "outputs": [
    {
     "data": {
      "text/plain": [
       "-0.500000000000000 - 0.866025403784439*I"
      ]
     },
     "execution_count": 102,
     "metadata": {},
     "output_type": "execute_result"
    }
   ],
   "source": [
    "n(j^2)"
   ]
  },
  {
   "cell_type": "code",
   "execution_count": 104,
   "metadata": {},
   "outputs": [
    {
     "data": {
      "text/plain": [
       "[(1,\n",
       "  [\n",
       "  (1, 1, 0, 0, 0, 0),\n",
       "  (0, 0, 1, 0, 1, 0),\n",
       "  (0, 0, 0, 1, 0, 1)\n",
       "  ],\n",
       "  3),\n",
       " (-1,\n",
       "  [\n",
       "  (1, -1, 0, 0, 0, 0),\n",
       "  (0, 0, 1, 0, -1, 0),\n",
       "  (0, 0, 0, 1, 0, -1)\n",
       "  ],\n",
       "  3)]"
      ]
     },
     "execution_count": 104,
     "metadata": {},
     "output_type": "execute_result"
    }
   ],
   "source": [
    "L12.eigenvectors_right()"
   ]
  },
  {
   "cell_type": "code",
   "execution_count": 105,
   "metadata": {},
   "outputs": [
    {
     "data": {
      "text/plain": [
       "[(1,\n",
       "  [\n",
       "  (1, 0, 1, 0, 0, 0),\n",
       "  (0, 1, 0, 0, 0, 1),\n",
       "  (0, 0, 0, 1, 1, 0)\n",
       "  ],\n",
       "  3),\n",
       " (-1,\n",
       "  [\n",
       "  (1, 0, -1, 0, 0, 0),\n",
       "  (0, 1, 0, 0, 0, -1),\n",
       "  (0, 0, 0, 1, -1, 0)\n",
       "  ],\n",
       "  3)]"
      ]
     },
     "execution_count": 105,
     "metadata": {},
     "output_type": "execute_result"
    }
   ],
   "source": [
    "L23.eigenvectors_right()"
   ]
  },
  {
   "cell_type": "code",
   "execution_count": null,
   "metadata": {},
   "outputs": [],
   "source": []
  }
 ],
 "metadata": {
  "kernelspec": {
   "display_name": "SageMath 9.4",
   "language": "sage",
   "name": "sagemath"
  },
  "language_info": {
   "codemirror_mode": {
    "name": "ipython",
    "version": 3
   },
   "file_extension": ".py",
   "mimetype": "text/x-python",
   "name": "python",
   "nbconvert_exporter": "python",
   "pygments_lexer": "ipython3",
   "version": "3.9.7"
  }
 },
 "nbformat": 4,
 "nbformat_minor": 4
}
